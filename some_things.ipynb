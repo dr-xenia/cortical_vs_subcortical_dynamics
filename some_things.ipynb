{
 "cells": [
  {
   "cell_type": "code",
   "execution_count": 56,
   "metadata": {},
   "outputs": [],
   "source": [
    "import scipy \n",
    "import scipy.io as sio \n",
    "import numpy as np \n",
    "import os.path as op \n",
    "import scipy.fftpack as fourier \n",
    "import matplotlib.pyplot as plt \n",
    "import scipy.signal as signal \n",
    "from scipy import stats \n",
    "import nibabel as nib\n",
    "from surfplot import plot_metric\n",
    "import toblerone as tob "
   ]
  },
  {
   "cell_type": "code",
   "execution_count": 57,
   "metadata": {},
   "outputs": [],
   "source": [
    "def load_catch22(path):\n",
    "    mdict = sio.loadmat(path)\n",
    "    outdict = {}\n",
    "    for row in mdict['results']: \n",
    "        k = row[0][0]\n",
    "        data = np.squeeze(np.concatenate(row[1:]))\n",
    "        outdict[k] = data \n",
    "\n",
    "    return outdict "
   ]
  },
  {
   "cell_type": "code",
   "execution_count": 58,
   "metadata": {},
   "outputs": [],
   "source": [
    "c22_cortex = load_catch22('hackaton2020Benelux/catch22/cortical/cortical_catch22.mat')\n",
    "c22_subcortex = load_catch22('hackaton2020Benelux/catch22/subcortical/subcortical_catch22.mat')\n",
    "keys = list(c22_cortex.keys())[1:]"
   ]
  },
  {
   "cell_type": "code",
   "execution_count": 62,
   "metadata": {},
   "outputs": [
    {
     "data": {
      "text/plain": [
       "((29696,), (64980, 3))"
      ]
     },
     "execution_count": 62,
     "metadata": {},
     "output_type": "execute_result"
    }
   ],
   "source": [
    "labs = nib.load('Q1-Q6_RelatedParcellation210.L.CorticalAreas_dil_Colors.32k_fs_LR.dlabel.nii').get_fdata()\n",
    "labs = np.squeeze(labs)\n",
    "lsurf = tob.Surface('S1200.L.midthickness_MSMAll.32k_fs_LR.surf.gii')\n",
    "labs.shape, lsurf.tris.shape"
   ]
  },
  {
   "cell_type": "code",
   "execution_count": null,
   "metadata": {},
   "outputs": [],
   "source": [
    "fig, axes = plt.subplots(len(keys), 1, constrained_layout=True)\n",
    "fig.set_size_inches(10,30)\n",
    "for key,ax in zip(keys, axes.flat):\n",
    "    cd = c22_cortex[key]\n",
    "    sd = c22_subcortex[key]\n",
    "    anova = stats.f_oneway(cd,sd)\n",
    "    ax.hist(cd, cd.size, alpha=0.4)\n",
    "    ax.hist(sd, sd.size, alpha=0.4)\n",
    "    ax.legend(['cortex', 'subcortex'])\n",
    "    ax.set_title('%s: anova(p) = %1.2e' % (key, anova.pvalue))"
   ]
  },
  {
   "cell_type": "code",
   "execution_count": null,
   "metadata": {},
   "outputs": [],
   "source": []
  }
 ],
 "metadata": {
  "kernelspec": {
   "display_name": "Python 3",
   "language": "python",
   "name": "python3"
  },
  "language_info": {
   "codemirror_mode": {
    "name": "ipython",
    "version": 3
   },
   "file_extension": ".py",
   "mimetype": "text/x-python",
   "name": "python",
   "nbconvert_exporter": "python",
   "pygments_lexer": "ipython3",
   "version": "3.7.6"
  }
 },
 "nbformat": 4,
 "nbformat_minor": 4
}
